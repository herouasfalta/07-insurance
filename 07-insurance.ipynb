{
 "cells": [
  {
   "cell_type": "markdown",
   "metadata": {
    "toc": true
   },
   "source": [
    "<h1>Содержание<span class=\"tocSkip\"></span></h1>\n",
    "<div class=\"toc\"><ul class=\"toc-item\"><li><span><a href=\"#Загрузка-данных\" data-toc-modified-id=\"Загрузка-данных-1\"><span class=\"toc-item-num\">1&nbsp;&nbsp;</span>Загрузка данных</a></span></li><li><span><a href=\"#Умножение-матриц\" data-toc-modified-id=\"Умножение-матриц-2\"><span class=\"toc-item-num\">2&nbsp;&nbsp;</span>Умножение матриц</a></span></li><li><span><a href=\"#Алгоритм-преобразования\" data-toc-modified-id=\"Алгоритм-преобразования-3\"><span class=\"toc-item-num\">3&nbsp;&nbsp;</span>Алгоритм преобразования</a></span></li><li><span><a href=\"#Проверка-алгоритма\" data-toc-modified-id=\"Проверка-алгоритма-4\"><span class=\"toc-item-num\">4&nbsp;&nbsp;</span>Проверка алгоритма</a></span></li><li><span><a href=\"#Чек-лист-проверки\" data-toc-modified-id=\"Чек-лист-проверки-5\"><span class=\"toc-item-num\">5&nbsp;&nbsp;</span>Чек-лист проверки</a></span></li></ul></div>"
   ]
  },
  {
   "cell_type": "markdown",
   "metadata": {},
   "source": [
    "# Защита персональных данных клиентов"
   ]
  },
  {
   "cell_type": "markdown",
   "metadata": {},
   "source": [
    "В рамках данного проекта необходимо защитить данные клиентов страховой компании «Хоть потоп». Необходимо разработать такой метод преобразования данных, чтобы по ним было сложно восстановить персональную информацию. И обосновать корректность его работы.\n",
    "\n",
    "Нужно защитить данные, чтобы при преобразовании качество моделей машинного обучения не ухудшилось."
   ]
  },
  {
   "cell_type": "markdown",
   "metadata": {},
   "source": [
    "## Загрузка данных"
   ]
  },
  {
   "cell_type": "code",
   "execution_count": 12,
   "metadata": {},
   "outputs": [],
   "source": [
    "import pandas as pd\n",
    "import numpy as np\n",
    "from sklearn.metrics import r2_score\n",
    "from numpy import linalg as LA"
   ]
  },
  {
   "cell_type": "code",
   "execution_count": 2,
   "metadata": {},
   "outputs": [
    {
     "name": "stdout",
     "output_type": "stream",
     "text": [
      "    Пол  Возраст  Зарплата  Члены семьи  Страховые выплаты\n",
      "0     1     41.0   49600.0            1                  0\n",
      "1     0     46.0   38000.0            1                  1\n",
      "2     0     29.0   21000.0            0                  0\n",
      "3     0     21.0   41700.0            2                  0\n",
      "4     1     28.0   26100.0            0                  0\n",
      "5     1     43.0   41000.0            2                  1\n",
      "6     1     39.0   39700.0            2                  0\n",
      "7     1     25.0   38600.0            4                  0\n",
      "8     1     36.0   49700.0            1                  0\n",
      "9     1     32.0   51700.0            1                  0\n",
      "10    1     25.0   36600.0            1                  0\n",
      "11    1     38.0   29300.0            0                  0\n",
      "12    0     23.0   39500.0            3                  0\n",
      "13    0     21.0   55000.0            0                  0\n",
      "14    0     40.0   43700.0            1                  0\n",
      "15    1     34.0   23300.0            0                  0\n",
      "16    1     26.0   48900.0            2                  0\n",
      "17    1     41.0   33200.0            2                  0\n",
      "18    1     42.0   49700.0            0                  1\n",
      "19    1     27.0   36900.0            0                  0\n",
      "<class 'pandas.core.frame.DataFrame'>\n",
      "RangeIndex: 5000 entries, 0 to 4999\n",
      "Data columns (total 5 columns):\n",
      " #   Column             Non-Null Count  Dtype  \n",
      "---  ------             --------------  -----  \n",
      " 0   Пол                5000 non-null   int64  \n",
      " 1   Возраст            5000 non-null   float64\n",
      " 2   Зарплата           5000 non-null   float64\n",
      " 3   Члены семьи        5000 non-null   int64  \n",
      " 4   Страховые выплаты  5000 non-null   int64  \n",
      "dtypes: float64(2), int64(3)\n",
      "memory usage: 195.4 KB\n"
     ]
    },
    {
     "data": {
      "text/plain": [
       "(5000, 5)"
      ]
     },
     "execution_count": 2,
     "metadata": {},
     "output_type": "execute_result"
    }
   ],
   "source": [
    "df = pd.read_csv('/datasets/insurance.csv')\n",
    "print (df.head(20))\n",
    "df.info()\n",
    "df.shape"
   ]
  },
  {
   "cell_type": "markdown",
   "metadata": {},
   "source": [
    "## Умножение матриц"
   ]
  },
  {
   "cell_type": "markdown",
   "metadata": {},
   "source": [
    "$$\n",
    "a = Xw = XEw = XPP^{-1}w = (XP)P^{-1}w = (XP)w'\n",
    "$$\n",
    "\n",
    "$$\n",
    "w' = ((XP)^T XP)^{-1} (XP)^T y\n",
    "$$\n",
    "$$\n",
    "w' = (P^T (X^T X) P)^{-1} (XP)^T y\n",
    "$$\n",
    "$$\n",
    ".....\n",
    "$$"
   ]
  },
  {
   "cell_type": "markdown",
   "metadata": {},
   "source": [
    "$$\n",
    "w' = (P^T (X^T X) P)^{-1} (XP)^T y\n",
    "$$\n",
    "$$\n",
    "w' =  P^{-1}(X^T X)^{-1}P^{-T}  P^TX^T  y\n",
    "$$\n",
    "$$\n",
    "w = (X^T X)^{-1} X^T y\n",
    "$$\n",
    "$$\n",
    "w' =  P^{-1}P^{-T} P^T w\n",
    "$$\n",
    "Сокращаем P\n",
    "$$\n",
    "w' = P^{-1} w\n",
    "$$"
   ]
  },
  {
   "cell_type": "markdown",
   "metadata": {},
   "source": [
    "**Ответ:** необходимо признаки умножить на обратимую матрицу, чтобы зашифровать данные\n",
    "\n",
    "**Обоснование:** при умножении на обратимую матрицу R2 до преобразования должен быть равен R2 после преобразования."
   ]
  },
  {
   "cell_type": "code",
   "execution_count": 3,
   "metadata": {},
   "outputs": [
    {
     "name": "stdout",
     "output_type": "stream",
     "text": [
      "0.42494550286668\n"
     ]
    }
   ],
   "source": [
    "features = df.drop('Страховые выплаты', axis=1)\n",
    "target = df['Страховые выплаты']\n",
    "\n",
    "\n",
    "class LinearRegression:\n",
    "    def fit(self, train_features, train_target):\n",
    "        X = np.concatenate((np.ones((train_features.shape[0], 1)), train_features), axis=1)\n",
    "        y = train_target\n",
    "        w = np.linalg.inv(X.T.dot(X)).dot(X.T).dot(y)\n",
    "        self.w = w[1:]\n",
    "        self.w0 = w[0]\n",
    "\n",
    "    def predict(self, test_features):\n",
    "        answer = (test_features @ self.w) + self.w0\n",
    "        return answer\n",
    "    \n",
    "model = LinearRegression()\n",
    "model.fit(features, target)\n",
    "predictions = model.predict(features)\n",
    "print(r2_score(target, predictions))"
   ]
  },
  {
   "cell_type": "markdown",
   "metadata": {},
   "source": [
    "## Алгоритм преобразования"
   ]
  },
  {
   "cell_type": "markdown",
   "metadata": {},
   "source": [
    "**Алгоритм**\n",
    "\n",
    "Создаем обратимую матрицу"
   ]
  },
  {
   "cell_type": "code",
   "execution_count": 8,
   "metadata": {},
   "outputs": [
    {
     "name": "stdout",
     "output_type": "stream",
     "text": [
      "[[10.88819758 11.2326134  10.97659872  9.63588639]\n",
      " [10.22308819 10.00336607 10.64290974 10.88435868]\n",
      " [ 8.1123552   8.18237321 10.500499    9.3542681 ]\n",
      " [ 8.18432862 11.1852767   8.97193319 11.43076578]]\n"
     ]
    }
   ],
   "source": [
    "matrix3 = np.random.normal(10, size=(4,4))\n",
    "print (matrix3)"
   ]
  },
  {
   "cell_type": "markdown",
   "metadata": {},
   "source": [
    "**Проверяю матрицу на обратимость**"
   ]
  },
  {
   "cell_type": "code",
   "execution_count": 14,
   "metadata": {},
   "outputs": [
    {
     "name": "stdout",
     "output_type": "stream",
     "text": [
      "[[ 3.93017070e-04  6.70775573e-01 -4.46387525e-01 -2.73745476e-01]\n",
      " [ 3.50159038e-01 -5.78348565e-01  6.07651784e-03  2.50553567e-01]\n",
      " [ 1.07475070e-01 -4.78273727e-01  5.18440755e-01 -5.94490870e-02]\n",
      " [-4.27276838e-01  4.61052307e-01 -9.32571951e-02  8.49711396e-02]]\n"
     ]
    }
   ],
   "source": [
    "matrix3_inv = LA.inv(matrix3)\n",
    "print (matrix3_inv)"
   ]
  },
  {
   "cell_type": "markdown",
   "metadata": {},
   "source": [
    "**Проверяю результат обратимости матрицы matrix3_inv, используя свойство обратной матрицы**\\\n",
    "np.dot(matrix3, matrix3_inv) = np.dot(matrix3_inv, matrix3) = np.eye(matrix3.shape[0])"
   ]
  },
  {
   "cell_type": "code",
   "execution_count": 15,
   "metadata": {},
   "outputs": [
    {
     "data": {
      "text/plain": [
       "array([[ 1.00000000e+00, -1.13918981e-15,  4.50918001e-16,\n",
       "         2.48986675e-16],\n",
       "       [ 2.34874400e-16,  1.00000000e+00, -1.08999736e-16,\n",
       "         1.15613187e-17],\n",
       "       [-6.79442252e-16,  5.25421084e-17,  1.00000000e+00,\n",
       "        -1.57989955e-16],\n",
       "       [-1.39205728e-16, -3.67096342e-17,  4.40115757e-16,\n",
       "         1.00000000e+00]])"
      ]
     },
     "execution_count": 15,
     "metadata": {},
     "output_type": "execute_result"
    }
   ],
   "source": [
    "np.dot(matrix3, matrix3_inv)"
   ]
  },
  {
   "cell_type": "code",
   "execution_count": 18,
   "metadata": {},
   "outputs": [
    {
     "data": {
      "text/plain": [
       "True"
      ]
     },
     "execution_count": 18,
     "metadata": {},
     "output_type": "execute_result"
    }
   ],
   "source": [
    "np.allclose(np.dot(matrix3, matrix3_inv), np.eye(matrix3.shape[0]))"
   ]
  },
  {
   "cell_type": "code",
   "execution_count": 19,
   "metadata": {},
   "outputs": [
    {
     "data": {
      "text/plain": [
       "True"
      ]
     },
     "execution_count": 19,
     "metadata": {},
     "output_type": "execute_result"
    }
   ],
   "source": [
    "np.allclose(np.dot(matrix3_inv, matrix3), np.eye(matrix3.shape[0]))"
   ]
  },
  {
   "cell_type": "markdown",
   "metadata": {},
   "source": [
    "**Умножаю признаки на обратимую матрицу для зашифровки данных**"
   ]
  },
  {
   "cell_type": "code",
   "execution_count": 20,
   "metadata": {},
   "outputs": [
    {
     "name": "stdout",
     "output_type": "stream",
     "text": [
      "                 0             1             2             3\n",
      "0    -4.521367e+06 -4.167556e+06 -7.250442e+06 -6.171941e+06\n",
      "1    -3.462918e+06 -3.190859e+06 -5.553561e+06 -4.726536e+06\n",
      "2    -1.913708e+06 -1.763110e+06 -3.069033e+06 -2.611809e+06\n",
      "3    -3.801711e+06 -3.505186e+06 -6.096267e+06 -5.190231e+06\n",
      "4    -2.378942e+06 -2.192318e+06 -3.814933e+06 -3.247087e+06\n",
      "...            ...           ...           ...           ...\n",
      "4995 -3.253904e+06 -2.999361e+06 -5.218173e+06 -4.441986e+06\n",
      "4996 -4.777330e+06 -4.404186e+06 -7.660602e+06 -6.521692e+06\n",
      "4997 -3.090245e+06 -2.848987e+06 -4.955556e+06 -4.218843e+06\n",
      "4998 -2.980156e+06 -2.747258e+06 -4.779360e+06 -4.068588e+06\n",
      "4999 -3.701245e+06 -3.412016e+06 -5.935188e+06 -5.052669e+06\n",
      "\n",
      "[5000 rows x 4 columns]\n"
     ]
    },
    {
     "data": {
      "text/plain": [
       "(5000, 4)"
      ]
     },
     "execution_count": 20,
     "metadata": {},
     "output_type": "execute_result"
    }
   ],
   "source": [
    "features_m = features @ matrix3\n",
    "print (features_m)\n",
    "features_m.shape"
   ]
  },
  {
   "cell_type": "markdown",
   "metadata": {},
   "source": [
    "**Обоснование**\n",
    "\n",
    "Умножаем признаки на обратимую матрицу"
   ]
  },
  {
   "cell_type": "markdown",
   "metadata": {},
   "source": [
    "## Проверка алгоритма"
   ]
  },
  {
   "cell_type": "code",
   "execution_count": 21,
   "metadata": {},
   "outputs": [
    {
     "name": "stdout",
     "output_type": "stream",
     "text": [
      "0.4249454984507788\n"
     ]
    }
   ],
   "source": [
    "features = features_m\n",
    "target = df['Страховые выплаты']\n",
    "\n",
    "\n",
    "class LinearRegression:\n",
    "    def fit(self, train_features, train_target):\n",
    "        X = np.concatenate((np.ones((train_features.shape[0], 1)), train_features), axis=1)\n",
    "        y = train_target\n",
    "        w = np.linalg.inv(X.T.dot(X)).dot(X.T).dot(y)\n",
    "        self.w = w[1:]\n",
    "        self.w0 = w[0]\n",
    "\n",
    "    def predict(self, test_features):\n",
    "        answer = (test_features @ self.w) + self.w0\n",
    "        return answer\n",
    "    \n",
    "model = LinearRegression()\n",
    "model.fit(features, target)\n",
    "predictions = model.predict(features)\n",
    "print(r2_score(target, predictions))"
   ]
  },
  {
   "cell_type": "markdown",
   "metadata": {},
   "source": [
    "## Вывод"
   ]
  },
  {
   "cell_type": "markdown",
   "metadata": {},
   "source": [
    "После преобразования признаков R2 модели остался такой же как и до преобразования. Модель работает, а признаки зашифрованы."
   ]
  }
 ],
 "metadata": {
  "ExecuteTimeLog": [
   {
    "duration": 376,
    "start_time": "2023-04-08T02:14:24.977Z"
   },
   {
    "duration": 88,
    "start_time": "2023-04-08T02:16:02.320Z"
   },
   {
    "duration": 34,
    "start_time": "2023-04-08T02:16:18.563Z"
   },
   {
    "duration": 39,
    "start_time": "2023-04-08T02:20:14.399Z"
   },
   {
    "duration": 745,
    "start_time": "2023-04-08T03:01:54.300Z"
   },
   {
    "duration": 102,
    "start_time": "2023-04-08T03:12:26.893Z"
   },
   {
    "duration": 14,
    "start_time": "2023-04-08T03:13:20.521Z"
   },
   {
    "duration": 114,
    "start_time": "2023-04-08T03:14:23.733Z"
   },
   {
    "duration": 11,
    "start_time": "2023-04-08T03:15:37.723Z"
   },
   {
    "duration": 42,
    "start_time": "2023-04-08T03:16:56.369Z"
   },
   {
    "duration": 12,
    "start_time": "2023-04-08T03:21:21.719Z"
   },
   {
    "duration": 8,
    "start_time": "2023-04-08T03:21:30.723Z"
   },
   {
    "duration": 3,
    "start_time": "2023-04-08T03:21:35.678Z"
   },
   {
    "duration": 12,
    "start_time": "2023-04-08T03:21:38.582Z"
   },
   {
    "duration": 8,
    "start_time": "2023-04-08T03:22:41.613Z"
   },
   {
    "duration": 11,
    "start_time": "2023-04-08T03:26:08.789Z"
   },
   {
    "duration": 3,
    "start_time": "2023-04-08T03:26:17.627Z"
   },
   {
    "duration": 11,
    "start_time": "2023-04-08T03:26:20.465Z"
   },
   {
    "duration": 3,
    "start_time": "2023-04-08T03:26:39.994Z"
   },
   {
    "duration": 9,
    "start_time": "2023-04-08T03:26:44.109Z"
   },
   {
    "duration": 17,
    "start_time": "2023-04-08T03:27:52.014Z"
   },
   {
    "duration": 15,
    "start_time": "2023-04-08T03:29:02.546Z"
   },
   {
    "duration": 15,
    "start_time": "2023-04-08T03:29:17.064Z"
   },
   {
    "duration": 4,
    "start_time": "2023-04-08T03:36:48.522Z"
   },
   {
    "duration": 4,
    "start_time": "2023-04-08T03:37:05.385Z"
   },
   {
    "duration": 8,
    "start_time": "2023-04-08T03:38:12.691Z"
   },
   {
    "duration": 2,
    "start_time": "2023-04-08T03:38:16.665Z"
   },
   {
    "duration": 10,
    "start_time": "2023-04-08T03:38:18.241Z"
   },
   {
    "duration": 3,
    "start_time": "2023-04-08T03:39:25.625Z"
   },
   {
    "duration": 3,
    "start_time": "2023-04-08T03:40:23.211Z"
   },
   {
    "duration": 11,
    "start_time": "2023-04-08T03:40:30.548Z"
   },
   {
    "duration": 3,
    "start_time": "2023-04-08T03:40:41.392Z"
   },
   {
    "duration": 9,
    "start_time": "2023-04-08T03:40:43.134Z"
   },
   {
    "duration": 9,
    "start_time": "2023-04-08T03:42:54.720Z"
   },
   {
    "duration": 91,
    "start_time": "2023-04-08T03:43:07.914Z"
   },
   {
    "duration": 82,
    "start_time": "2023-04-08T03:45:42.462Z"
   },
   {
    "duration": 111,
    "start_time": "2023-04-08T03:52:15.816Z"
   },
   {
    "duration": 72,
    "start_time": "2023-04-10T04:20:39.406Z"
   },
   {
    "duration": 1065,
    "start_time": "2023-04-10T04:20:43.851Z"
   },
   {
    "duration": 101,
    "start_time": "2023-04-10T04:20:44.918Z"
   },
   {
    "duration": 4,
    "start_time": "2023-04-10T04:20:45.020Z"
   },
   {
    "duration": 53,
    "start_time": "2023-04-10T04:20:45.026Z"
   },
   {
    "duration": 56,
    "start_time": "2023-04-10T04:20:45.081Z"
   },
   {
    "duration": 101,
    "start_time": "2023-04-10T04:20:45.139Z"
   },
   {
    "duration": 95,
    "start_time": "2023-04-10T04:20:45.242Z"
   },
   {
    "duration": 111,
    "start_time": "2023-04-10T04:20:45.339Z"
   },
   {
    "duration": 17,
    "start_time": "2023-04-10T04:20:45.452Z"
   },
   {
    "duration": 13,
    "start_time": "2023-04-10T04:22:56.362Z"
   },
   {
    "duration": 4,
    "start_time": "2023-04-10T04:23:53.733Z"
   },
   {
    "duration": 9,
    "start_time": "2023-04-10T04:24:23.080Z"
   },
   {
    "duration": 3,
    "start_time": "2023-04-10T04:26:48.624Z"
   },
   {
    "duration": 56,
    "start_time": "2023-04-10T04:26:48.629Z"
   },
   {
    "duration": 75,
    "start_time": "2023-04-10T04:26:48.687Z"
   },
   {
    "duration": 0,
    "start_time": "2023-04-10T04:26:48.763Z"
   },
   {
    "duration": 0,
    "start_time": "2023-04-10T04:26:48.764Z"
   },
   {
    "duration": 0,
    "start_time": "2023-04-10T04:26:48.764Z"
   },
   {
    "duration": 10,
    "start_time": "2023-04-10T04:29:00.078Z"
   },
   {
    "duration": 3,
    "start_time": "2023-04-10T04:29:46.643Z"
   },
   {
    "duration": 38,
    "start_time": "2023-04-10T04:29:46.667Z"
   },
   {
    "duration": 8,
    "start_time": "2023-04-10T04:29:46.707Z"
   },
   {
    "duration": 127,
    "start_time": "2023-04-10T04:29:46.717Z"
   },
   {
    "duration": 11,
    "start_time": "2023-04-10T04:29:46.847Z"
   },
   {
    "duration": 76,
    "start_time": "2023-04-10T04:29:46.859Z"
   },
   {
    "duration": 2480,
    "start_time": "2023-04-10T09:31:53.210Z"
   },
   {
    "duration": 47,
    "start_time": "2023-04-10T09:31:55.692Z"
   },
   {
    "duration": 14,
    "start_time": "2023-04-10T09:33:48.336Z"
   },
   {
    "duration": 104,
    "start_time": "2023-04-10T09:36:07.324Z"
   },
   {
    "duration": 3,
    "start_time": "2023-04-10T09:36:12.530Z"
   },
   {
    "duration": 11,
    "start_time": "2023-04-10T09:36:13.256Z"
   },
   {
    "duration": 12,
    "start_time": "2023-04-10T09:36:13.987Z"
   },
   {
    "duration": 1049,
    "start_time": "2023-04-11T03:56:53.183Z"
   },
   {
    "duration": 109,
    "start_time": "2023-04-11T03:56:54.234Z"
   },
   {
    "duration": 108,
    "start_time": "2023-04-11T03:56:54.345Z"
   },
   {
    "duration": 87,
    "start_time": "2023-04-11T03:56:54.456Z"
   },
   {
    "duration": 26,
    "start_time": "2023-04-11T03:56:54.544Z"
   },
   {
    "duration": 20,
    "start_time": "2023-04-11T03:56:54.572Z"
   },
   {
    "duration": 14,
    "start_time": "2023-04-11T03:56:54.595Z"
   },
   {
    "duration": 5,
    "start_time": "2023-04-11T03:58:01.811Z"
   },
   {
    "duration": 4,
    "start_time": "2023-04-11T04:02:31.228Z"
   },
   {
    "duration": 3,
    "start_time": "2023-04-11T04:02:37.784Z"
   },
   {
    "duration": 3,
    "start_time": "2023-04-11T04:02:46.182Z"
   },
   {
    "duration": 3,
    "start_time": "2023-04-11T04:02:50.495Z"
   },
   {
    "duration": 3,
    "start_time": "2023-04-11T04:03:42.681Z"
   },
   {
    "duration": 6,
    "start_time": "2023-04-11T04:04:05.737Z"
   },
   {
    "duration": 5,
    "start_time": "2023-04-11T04:05:52.359Z"
   },
   {
    "duration": 5,
    "start_time": "2023-04-11T04:06:17.537Z"
   },
   {
    "duration": 5,
    "start_time": "2023-04-11T04:09:13.186Z"
   },
   {
    "duration": 5,
    "start_time": "2023-04-11T04:09:50.368Z"
   },
   {
    "duration": 11,
    "start_time": "2023-04-11T04:10:04.450Z"
   },
   {
    "duration": 12,
    "start_time": "2023-04-11T04:10:35.075Z"
   },
   {
    "duration": 14,
    "start_time": "2023-04-11T04:10:41.776Z"
   }
  ],
  "kernelspec": {
   "display_name": "Python 3 (ipykernel)",
   "language": "python",
   "name": "python3"
  },
  "language_info": {
   "codemirror_mode": {
    "name": "ipython",
    "version": 3
   },
   "file_extension": ".py",
   "mimetype": "text/x-python",
   "name": "python",
   "nbconvert_exporter": "python",
   "pygments_lexer": "ipython3",
   "version": "3.9.13"
  },
  "toc": {
   "base_numbering": 1,
   "nav_menu": {},
   "number_sections": true,
   "sideBar": true,
   "skip_h1_title": true,
   "title_cell": "Содержание",
   "title_sidebar": "Contents",
   "toc_cell": true,
   "toc_position": {},
   "toc_section_display": true,
   "toc_window_display": true
  }
 },
 "nbformat": 4,
 "nbformat_minor": 4
}
